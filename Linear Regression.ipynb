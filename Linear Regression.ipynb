{
  "cells": [
    {
      "cell_type": "markdown",
      "metadata": {
        "id": "BraFCKYu7ENc"
      },
      "source": [
        "# Linear Regression"
      ]
    },
    {
      "cell_type": "code",
      "source": [
        "import numpy as np\n",
        "import pandas as pd\n",
        "from sklearn.model_selection import train_test_split, GridSearchCV\n",
        "from sklearn.linear_model import Ridge, LinearRegression\n",
        "from sklearn.svm import SVR\n",
        "from sklearn.preprocessing import StandardScaler\n",
        "from sklearn.metrics import r2_score\n",
        "\n",
        "X = np.loadtxt(\"Xtr.csv\", delimiter=\",\")\n",
        "y = np.loadtxt(\"Ytr.csv\", delimiter=\",\")\n",
        "scaler = StandardScaler()\n",
        "X = scaler.fit_transform(X)\n",
        "X_train, X_val, y_train, y_val = train_test_split(X, y, test_size=0.2, random_state=42)\n",
        "\n",
        "# Linear Regression\n",
        "linear_model = LinearRegression()\n",
        "linear_model.fit(X_train, y_train)\n",
        "y_pred = linear_model.predict(X_val)\n",
        "print(f\"Linear Regression R2: {r2_score(y_val, y_pred)}\")\n",
        "\n",
        "# Ridge Regression\n",
        "ridge_model = Ridge()\n",
        "params = {\"alpha\": [0.1, 1, 10, 100]}\n",
        "ridge_cv = GridSearchCV(ridge_model, params, scoring=\"r2\", cv=5)\n",
        "ridge_cv.fit(X_train, y_train)\n",
        "y_pred = ridge_cv.best_estimator_.predict(X_val)\n",
        "print(f\"Ridge Regression R2: {r2_score(y_val, y_pred)}\")\n",
        "\n",
        "# SVR\n",
        "svr_model = SVR()\n",
        "params = {\"C\": [0.1, 1, 10], \"epsilon\": [0.1, 0.2, 0.5], \"kernel\": [\"linear\", \"rbf\"]}\n",
        "svr_cv = GridSearchCV(svr_model, params, scoring=\"r2\", cv=5)\n",
        "svr_cv.fit(X_train, y_train[:, 0])  # Example for first target\n",
        "y_pred = svr_cv.best_estimator_.predict(X_val)\n",
        "print(f\"SVR R2: {r2_score(y_val[:, 0], y_pred)}\")\n",
        "\n",
        "import pickle\n",
        "with open(\"Linear Regression.bz2\", \"wb\") as f:\n",
        "    pickle.dump(ridge_cv.best_estimator_, f)"
      ],
      "metadata": {
        "id": "h6zIvpJp7Iuh"
      },
      "execution_count": null,
      "outputs": []
    }
  ],
  "metadata": {
    "kernelspec": {
      "display_name": "Python 3 (ipykernel)",
      "language": "python",
      "name": "python3"
    },
    "language_info": {
      "codemirror_mode": {
        "name": "ipython",
        "version": 3
      },
      "file_extension": ".py",
      "mimetype": "text/x-python",
      "name": "python",
      "nbconvert_exporter": "python",
      "pygments_lexer": "ipython3",
      "version": "3.12.2"
    },
    "varInspector": {
      "cols": {
        "lenName": 16,
        "lenType": 16,
        "lenVar": 40
      },
      "kernels_config": {
        "python": {
          "delete_cmd_postfix": "",
          "delete_cmd_prefix": "del ",
          "library": "var_list.py",
          "varRefreshCmd": "print(var_dic_list())"
        },
        "r": {
          "delete_cmd_postfix": ") ",
          "delete_cmd_prefix": "rm(",
          "library": "var_list.r",
          "varRefreshCmd": "cat(var_dic_list()) "
        }
      },
      "types_to_exclude": [
        "module",
        "function",
        "builtin_function_or_method",
        "instance",
        "_Feature"
      ],
      "window_display": false
    },
    "colab": {
      "provenance": []
    }
  },
  "nbformat": 4,
  "nbformat_minor": 0
}